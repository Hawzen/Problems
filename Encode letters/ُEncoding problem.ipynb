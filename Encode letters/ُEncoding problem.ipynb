{
 "cells": [
  {
   "cell_type": "code",
   "execution_count": 335,
   "metadata": {},
   "outputs": [],
   "source": [
    "from random import randint\n",
    "from string import printable\n",
    "class Encoder:\n",
    "    def __init__(self, content):\n",
    "        self.content = content\n",
    "        self.key = (randint(1, 10), randint(0, 10))\n",
    "        self.hashtable = {float(hash(asci)): asci for asci in printable}\n",
    "        \n",
    "    def encode(self):\n",
    "        self.content = list(hash(letter) * self.key[0] + self.key[1] for letter in self.content)\n",
    "        \n",
    "    def decode(self):\n",
    "        self.content = \"\".join(list(self.hashtable[(enc_asci - self.key[1]) / self.key[0]] for enc_asci in self.content))\n"
   ]
  },
  {
   "cell_type": "code",
   "execution_count": 338,
   "metadata": {},
   "outputs": [
    {
     "name": "stdin",
     "output_type": "stream",
     "text": [
      " She Sells Seashells By The Seashore\n"
     ]
    }
   ],
   "source": [
    "encoder = Encoder(input())"
   ]
  },
  {
   "cell_type": "code",
   "execution_count": 339,
   "metadata": {},
   "outputs": [
    {
     "data": {
      "text/plain": [
       "'She Sells Seashells By The Seashore'"
      ]
     },
     "execution_count": 339,
     "metadata": {},
     "output_type": "execute_result"
    }
   ],
   "source": [
    "encoder.content"
   ]
  },
  {
   "cell_type": "code",
   "execution_count": 340,
   "metadata": {},
   "outputs": [],
   "source": [
    "encoder.encode()"
   ]
  },
  {
   "cell_type": "code",
   "execution_count": 341,
   "metadata": {},
   "outputs": [
    {
     "data": {
      "text/plain": [
       "[46457248833904956735,\n",
       " -49196385448362166390,\n",
       " 15270791845903720303,\n",
       " -16810361552006120061,\n",
       " 46457248833904956735,\n",
       " 15270791845903720303,\n",
       " 22883380080042768239,\n",
       " 22883380080042768239,\n",
       " 11597524202627664849,\n",
       " -16810361552006120061,\n",
       " 46457248833904956735,\n",
       " 15270791845903720303,\n",
       " -31942948606233815799,\n",
       " 11597524202627664849,\n",
       " -49196385448362166390,\n",
       " 15270791845903720303,\n",
       " 22883380080042768239,\n",
       " 22883380080042768239,\n",
       " 11597524202627664849,\n",
       " -16810361552006120061,\n",
       " 51783922444804198777,\n",
       " -24724952596805130472,\n",
       " -16810361552006120061,\n",
       " -8628924546192187774,\n",
       " -49196385448362166390,\n",
       " 15270791845903720303,\n",
       " -16810361552006120061,\n",
       " 46457248833904956735,\n",
       " 15270791845903720303,\n",
       " -31942948606233815799,\n",
       " 11597524202627664849,\n",
       " -49196385448362166390,\n",
       " -35470571384135751645,\n",
       " -54359118215922196304,\n",
       " 15270791845903720303]"
      ]
     },
     "execution_count": 341,
     "metadata": {},
     "output_type": "execute_result"
    }
   ],
   "source": [
    "encoder.content"
   ]
  },
  {
   "cell_type": "code",
   "execution_count": 342,
   "metadata": {},
   "outputs": [],
   "source": [
    "encoder.decode()"
   ]
  },
  {
   "cell_type": "code",
   "execution_count": 343,
   "metadata": {},
   "outputs": [
    {
     "data": {
      "text/plain": [
       "'She Sells Seashells By The Seashore'"
      ]
     },
     "execution_count": 343,
     "metadata": {},
     "output_type": "execute_result"
    }
   ],
   "source": [
    "encoder.content"
   ]
  },
  {
   "cell_type": "code",
   "execution_count": 344,
   "metadata": {},
   "outputs": [],
   "source": [
    "def f():\n",
    "    yield None"
   ]
  },
  {
   "cell_type": "code",
   "execution_count": 349,
   "metadata": {},
   "outputs": [
    {
     "ename": "StopIteration",
     "evalue": "",
     "output_type": "error",
     "traceback": [
      "\u001b[1;31m---------------------------------------------------------------------------\u001b[0m",
      "\u001b[1;31mStopIteration\u001b[0m                             Traceback (most recent call last)",
      "\u001b[1;32m<ipython-input-349-92de4e9f6b1e>\u001b[0m in \u001b[0;36m<module>\u001b[1;34m\u001b[0m\n\u001b[1;32m----> 1\u001b[1;33m \u001b[0mnext\u001b[0m\u001b[1;33m(\u001b[0m\u001b[0mx\u001b[0m\u001b[1;33m)\u001b[0m\u001b[1;33m\u001b[0m\u001b[0m\n\u001b[0m",
      "\u001b[1;31mStopIteration\u001b[0m: "
     ]
    }
   ],
   "source": [
    "next(x)"
   ]
  },
  {
   "cell_type": "code",
   "execution_count": 347,
   "metadata": {},
   "outputs": [],
   "source": [
    "x = f()"
   ]
  },
  {
   "cell_type": "code",
   "execution_count": null,
   "metadata": {},
   "outputs": [],
   "source": []
  }
 ],
 "metadata": {
  "kernelspec": {
   "display_name": "Python 3",
   "language": "python",
   "name": "python3"
  },
  "language_info": {
   "codemirror_mode": {
    "name": "ipython",
    "version": 3
   },
   "file_extension": ".py",
   "mimetype": "text/x-python",
   "name": "python",
   "nbconvert_exporter": "python",
   "pygments_lexer": "ipython3",
   "version": "3.6.0"
  }
 },
 "nbformat": 4,
 "nbformat_minor": 4
}
