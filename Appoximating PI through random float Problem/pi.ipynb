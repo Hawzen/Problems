{
 "cells": [
  {
   "cell_type": "code",
   "execution_count": 2,
   "metadata": {},
   "outputs": [],
   "source": [
    "from random import random\n",
    "\n",
    "def approxPi1(n):\n",
    "    # Cheater method, uses 1/pi internally\n",
    "    average = 0\n",
    "    for _ in range(n):\n",
    "        average += 1 if random() < 0.3183098862 else 0 \n",
    "    return 1/(average/n)\n",
    "\n",
    "def approxPi2(n):\n",
    "    average = 0\n",
    "    for _ in range(n):\n",
    "        average +=  1 if (random()**2 + random()**2) <= 1 else 0\n",
    "    return average/n * 4"
   ]
  },
  {
   "cell_type": "code",
   "execution_count": 3,
   "metadata": {},
   "outputs": [],
   "source": [
    "def timeit(f, n):\n",
    "    t1 = time()\n",
    "    return f(n), time() - t1"
   ]
  },
  {
   "cell_type": "code",
   "execution_count": 4,
   "metadata": {},
   "outputs": [
    {
     "name": "stdout",
     "output_type": "stream",
     "text": [
      "Accuracy: 50000000\n",
      "\n",
      "Approximate Pi1\n",
      "\tResult: 3.1407952556403185\n",
      "\tTime: 5.8945534229278564\n",
      "\n",
      "Approximate Pi2\n",
      "\tResult: 3.14169416\n",
      "\tTime: 27.34002375602722\n"
     ]
    }
   ],
   "source": [
    "from time import time\n",
    "n = 50000000\n",
    "r1, t1 = timeit(approxPi1, n)\n",
    "r2, t2 = timeit(approxPi2, n)\n",
    "s = f\"Accuracy: {n}\\n\\nApproximate Pi1\\n\\tResult: {r1}\\n\\tTime: {t1}\\n\\n\"\n",
    "s += f\"Approximate Pi2\\n\\tResult: {r2}\\n\\tTime: {t2}\"\n",
    "\n",
    "print(s)"
   ]
  }
 ],
 "metadata": {
  "kernelspec": {
   "display_name": "Python 3",
   "language": "python",
   "name": "python3"
  },
  "language_info": {
   "codemirror_mode": {
    "name": "ipython",
    "version": 3
   },
   "file_extension": ".py",
   "mimetype": "text/x-python",
   "name": "python",
   "nbconvert_exporter": "python",
   "pygments_lexer": "ipython3",
   "version": "3.6.0"
  }
 },
 "nbformat": 4,
 "nbformat_minor": 4
}
